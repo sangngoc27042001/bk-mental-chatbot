{
 "cells": [
  {
   "cell_type": "markdown",
   "metadata": {},
   "source": [
    "# This file is to test each component"
   ]
  },
  {
   "cell_type": "markdown",
   "metadata": {},
   "source": [
    "#### Test chat_session.py"
   ]
  },
  {
   "cell_type": "code",
   "execution_count": 1,
   "metadata": {},
   "outputs": [
    {
     "name": "stderr",
     "output_type": "stream",
     "text": [
      "c:\\Users\\SANG\\Desktop\\Renn\\bk-mental-chatbot\\venv\\lib\\site-packages\\tqdm\\auto.py:21: TqdmWarning: IProgress not found. Please update jupyter and ipywidgets. See https://ipywidgets.readthedocs.io/en/stable/user_install.html\n",
      "  from .autonotebook import tqdm as notebook_tqdm\n",
      "modules.json: 100%|██████████| 349/349 [00:00<00:00, 54.1kB/s]\n",
      "c:\\Users\\SANG\\Desktop\\Renn\\bk-mental-chatbot\\venv\\lib\\site-packages\\huggingface_hub\\file_download.py:149: UserWarning: `huggingface_hub` cache-system uses symlinks by default to efficiently store duplicated files but your machine does not support them in C:\\Users\\SANG\\.cache\\huggingface\\hub\\models--sentence-transformers--all-mpnet-base-v2. Caching files will still work but in a degraded version that might require more space on your disk. This warning can be disabled by setting the `HF_HUB_DISABLE_SYMLINKS_WARNING` environment variable. For more details, see https://huggingface.co/docs/huggingface_hub/how-to-cache#limitations.\n",
      "To support symlinks on Windows, you either need to activate Developer Mode or to run Python as an administrator. In order to see activate developer mode, see this article: https://docs.microsoft.com/en-us/windows/apps/get-started/enable-your-device-for-development\n",
      "  warnings.warn(message)\n",
      "config_sentence_transformers.json: 100%|██████████| 116/116 [00:00<00:00, 15.5kB/s]\n",
      "README.md: 100%|██████████| 10.6k/10.6k [00:00<00:00, 1.57MB/s]\n",
      "sentence_bert_config.json: 100%|██████████| 53.0/53.0 [00:00<00:00, 6.06kB/s]\n",
      "config.json: 100%|██████████| 571/571 [00:00<00:00, 73.0kB/s]\n",
      "pytorch_model.bin: 100%|██████████| 438M/438M [04:28<00:00, 1.63MB/s] \n",
      "tokenizer_config.json: 100%|██████████| 363/363 [00:00<00:00, 42.7kB/s]\n",
      "vocab.txt: 100%|██████████| 232k/232k [00:00<00:00, 353kB/s]\n",
      "tokenizer.json: 100%|██████████| 466k/466k [00:00<00:00, 572kB/s]\n",
      "special_tokens_map.json: 100%|██████████| 239/239 [00:00<00:00, 25.1kB/s]\n",
      "1_Pooling/config.json: 100%|██████████| 190/190 [00:00<00:00, 14.2kB/s]\n",
      "c:\\Users\\SANG\\Desktop\\Renn\\bk-mental-chatbot\\venv\\lib\\site-packages\\langchain_core\\_api\\deprecation.py:117: LangChainDeprecationWarning: The class `langchain_community.chat_models.openai.ChatOpenAI` was deprecated in langchain-community 0.0.10 and will be removed in 0.2.0. An updated version of the class exists in the langchain-openai package and should be used instead. To use it run `pip install -U langchain-openai` and import as `from langchain_openai import ChatOpenAI`.\n",
      "  warn_deprecated(\n"
     ]
    }
   ],
   "source": [
    "from chat_session import ChatSession"
   ]
  },
  {
   "cell_type": "code",
   "execution_count": 2,
   "metadata": {},
   "outputs": [
    {
     "name": "stdout",
     "output_type": "stream",
     "text": [
      "{'real_consultant': False, 'address': False}\n"
     ]
    },
    {
     "data": {
      "text/plain": [
       "'Hello! I am an AI mental consultant here to help you. How can I assist you today?'"
      ]
     },
     "execution_count": 2,
     "metadata": {},
     "output_type": "execute_result"
    }
   ],
   "source": [
    "sess = ChatSession()\n",
    "sess.invoke('Hi')"
   ]
  },
  {
   "cell_type": "code",
   "execution_count": 3,
   "metadata": {},
   "outputs": [
    {
     "name": "stdout",
     "output_type": "stream",
     "text": [
      "{'real_consultant': False, 'address': False}\n"
     ]
    },
    {
     "data": {
      "text/plain": [
       "\"I'm sorry to hear that you're feeling anxious. It's understandable to feel this way at times, especially with everything going on in the world. Can you tell me more about what's been going on that might be contributing to your anxiety?\""
      ]
     },
     "execution_count": 3,
     "metadata": {},
     "output_type": "execute_result"
    }
   ],
   "source": [
    "sess.invoke('I feel anxious')"
   ]
  },
  {
   "cell_type": "code",
   "execution_count": 4,
   "metadata": {},
   "outputs": [
    {
     "name": "stdout",
     "output_type": "stream",
     "text": [
      "{'real_consultant': False, 'address': False}\n"
     ]
    },
    {
     "data": {
      "text/plain": [
       "\"I understand that feeling anxious can be overwhelming. There are several things you can try to help manage your anxiety. First, it can be helpful to practice deep breathing exercises or engage in relaxation techniques such as progressive muscle relaxation. Taking breaks and engaging in activities you enjoy, like hobbies or exercise, can also help distract your mind from anxious thoughts. Additionally, it may be beneficial to talk to someone you trust about your feelings, whether it's a friend, family member, or a mental health professional. They can provide support and guidance tailored to your specific situation. Remember, it's important to take care of yourself and prioritize self-care during times of anxiety. Is there anything specific that triggers your anxiety or any coping mechanisms you've tried before?\""
      ]
     },
     "execution_count": 4,
     "metadata": {},
     "output_type": "execute_result"
    }
   ],
   "source": [
    "sess.invoke('what I can do now?')"
   ]
  },
  {
   "cell_type": "code",
   "execution_count": 5,
   "metadata": {},
   "outputs": [
    {
     "name": "stdout",
     "output_type": "stream",
     "text": [
      "{'real_consultant': True, 'address': False}\n"
     ]
    },
    {
     "data": {
      "text/plain": [
       "'Of course! I can help you find a real mental health consultant in your area. Could you please provide me with your address or location so that I can recommend someone nearby?'"
      ]
     },
     "execution_count": 5,
     "metadata": {},
     "output_type": "execute_result"
    }
   ],
   "source": [
    "sess.invoke('Can I connect with real consultant')"
   ]
  },
  {
   "cell_type": "code",
   "execution_count": 6,
   "metadata": {},
   "outputs": [
    {
     "name": "stdout",
     "output_type": "stream",
     "text": [
      "{'real_consultant': True, 'address': True}\n"
     ]
    },
    {
     "data": {
      "text/plain": [
       "\"Thank you for providing your address. Based on your location, I recommend you reach out to Vo Ngoc Sang, a mental health consultant located in Nha Trang. He has experience in helping individuals with anxiety and can provide you with the support and guidance you need. It's important to remember that seeking professional help is a positive step towards managing your anxiety. If you have any other questions or concerns, feel free to let me know.\""
      ]
     },
     "execution_count": 6,
     "metadata": {},
     "output_type": "execute_result"
    }
   ],
   "source": [
    "sess.invoke('I live in 497 Hoa Hao')"
   ]
  }
 ],
 "metadata": {
  "kernelspec": {
   "display_name": "venv",
   "language": "python",
   "name": "python3"
  },
  "language_info": {
   "codemirror_mode": {
    "name": "ipython",
    "version": 3
   },
   "file_extension": ".py",
   "mimetype": "text/x-python",
   "name": "python",
   "nbconvert_exporter": "python",
   "pygments_lexer": "ipython3",
   "version": "3.8.5"
  }
 },
 "nbformat": 4,
 "nbformat_minor": 2
}
